{
  "nbformat": 4,
  "nbformat_minor": 0,
  "metadata": {
    "colab": {
      "provenance": []
    },
    "kernelspec": {
      "name": "python3",
      "display_name": "Python 3"
    },
    "language_info": {
      "name": "python"
    }
  },
  "cells": [
    {
      "cell_type": "markdown",
      "source": [
        "# Using just TensorFlow Framework for IRIS dataset"
      ],
      "metadata": {
        "id": "FR784CPHZHUv"
      }
    },
    {
      "cell_type": "markdown",
      "source": [
        "### Step 1: Import the required libraries\n"
      ],
      "metadata": {
        "id": "TjHWsaMOohWD"
      }
    },
    {
      "cell_type": "code",
      "source": [
        "import os\n",
        "import pandas as pd\n",
        "import numpy as np\n",
        "import random\n",
        "import matplotlib.pyplot as plt\n",
        "import seaborn as sns\n",
        "import tensorflow"
      ],
      "metadata": {
        "id": "WkTBG3o9ZNBz"
      },
      "execution_count": 614,
      "outputs": []
    },
    {
      "cell_type": "markdown",
      "source": [
        "### Step 2: Load the `IRIS` dataset"
      ],
      "metadata": {
        "id": "gGgqR-bJZq-S"
      }
    },
    {
      "cell_type": "code",
      "source": [
        "path = 'https://raw.githubusercontent.com/jbrownlee/Datasets/master/iris.csv' #import IRIS dataset\n",
        "df = pd.read_csv(path, header=None)"
      ],
      "metadata": {
        "id": "-2lXtQ7EZvEE"
      },
      "execution_count": 615,
      "outputs": []
    },
    {
      "cell_type": "code",
      "source": [
        "df.head(2)"
      ],
      "metadata": {
        "colab": {
          "base_uri": "https://localhost:8080/",
          "height": 112
        },
        "id": "h7pLYsuy-9dD",
        "outputId": "9e24addc-2a6d-4e84-e8fa-5892c2af3cdb"
      },
      "execution_count": 616,
      "outputs": [
        {
          "output_type": "execute_result",
          "data": {
            "text/plain": [
              "     0    1    2    3            4\n",
              "0  5.1  3.5  1.4  0.2  Iris-setosa\n",
              "1  4.9  3.0  1.4  0.2  Iris-setosa"
            ],
            "text/html": [
              "\n",
              "  <div id=\"df-5b25704b-f290-4fcd-a784-a9aea89b36e6\" class=\"colab-df-container\">\n",
              "    <div>\n",
              "<style scoped>\n",
              "    .dataframe tbody tr th:only-of-type {\n",
              "        vertical-align: middle;\n",
              "    }\n",
              "\n",
              "    .dataframe tbody tr th {\n",
              "        vertical-align: top;\n",
              "    }\n",
              "\n",
              "    .dataframe thead th {\n",
              "        text-align: right;\n",
              "    }\n",
              "</style>\n",
              "<table border=\"1\" class=\"dataframe\">\n",
              "  <thead>\n",
              "    <tr style=\"text-align: right;\">\n",
              "      <th></th>\n",
              "      <th>0</th>\n",
              "      <th>1</th>\n",
              "      <th>2</th>\n",
              "      <th>3</th>\n",
              "      <th>4</th>\n",
              "    </tr>\n",
              "  </thead>\n",
              "  <tbody>\n",
              "    <tr>\n",
              "      <th>0</th>\n",
              "      <td>5.1</td>\n",
              "      <td>3.5</td>\n",
              "      <td>1.4</td>\n",
              "      <td>0.2</td>\n",
              "      <td>Iris-setosa</td>\n",
              "    </tr>\n",
              "    <tr>\n",
              "      <th>1</th>\n",
              "      <td>4.9</td>\n",
              "      <td>3.0</td>\n",
              "      <td>1.4</td>\n",
              "      <td>0.2</td>\n",
              "      <td>Iris-setosa</td>\n",
              "    </tr>\n",
              "  </tbody>\n",
              "</table>\n",
              "</div>\n",
              "    <div class=\"colab-df-buttons\">\n",
              "\n",
              "  <div class=\"colab-df-container\">\n",
              "    <button class=\"colab-df-convert\" onclick=\"convertToInteractive('df-5b25704b-f290-4fcd-a784-a9aea89b36e6')\"\n",
              "            title=\"Convert this dataframe to an interactive table.\"\n",
              "            style=\"display:none;\">\n",
              "\n",
              "  <svg xmlns=\"http://www.w3.org/2000/svg\" height=\"24px\" viewBox=\"0 -960 960 960\">\n",
              "    <path d=\"M120-120v-720h720v720H120Zm60-500h600v-160H180v160Zm220 220h160v-160H400v160Zm0 220h160v-160H400v160ZM180-400h160v-160H180v160Zm440 0h160v-160H620v160ZM180-180h160v-160H180v160Zm440 0h160v-160H620v160Z\"/>\n",
              "  </svg>\n",
              "    </button>\n",
              "\n",
              "  <style>\n",
              "    .colab-df-container {\n",
              "      display:flex;\n",
              "      gap: 12px;\n",
              "    }\n",
              "\n",
              "    .colab-df-convert {\n",
              "      background-color: #E8F0FE;\n",
              "      border: none;\n",
              "      border-radius: 50%;\n",
              "      cursor: pointer;\n",
              "      display: none;\n",
              "      fill: #1967D2;\n",
              "      height: 32px;\n",
              "      padding: 0 0 0 0;\n",
              "      width: 32px;\n",
              "    }\n",
              "\n",
              "    .colab-df-convert:hover {\n",
              "      background-color: #E2EBFA;\n",
              "      box-shadow: 0px 1px 2px rgba(60, 64, 67, 0.3), 0px 1px 3px 1px rgba(60, 64, 67, 0.15);\n",
              "      fill: #174EA6;\n",
              "    }\n",
              "\n",
              "    .colab-df-buttons div {\n",
              "      margin-bottom: 4px;\n",
              "    }\n",
              "\n",
              "    [theme=dark] .colab-df-convert {\n",
              "      background-color: #3B4455;\n",
              "      fill: #D2E3FC;\n",
              "    }\n",
              "\n",
              "    [theme=dark] .colab-df-convert:hover {\n",
              "      background-color: #434B5C;\n",
              "      box-shadow: 0px 1px 3px 1px rgba(0, 0, 0, 0.15);\n",
              "      filter: drop-shadow(0px 1px 2px rgba(0, 0, 0, 0.3));\n",
              "      fill: #FFFFFF;\n",
              "    }\n",
              "  </style>\n",
              "\n",
              "    <script>\n",
              "      const buttonEl =\n",
              "        document.querySelector('#df-5b25704b-f290-4fcd-a784-a9aea89b36e6 button.colab-df-convert');\n",
              "      buttonEl.style.display =\n",
              "        google.colab.kernel.accessAllowed ? 'block' : 'none';\n",
              "\n",
              "      async function convertToInteractive(key) {\n",
              "        const element = document.querySelector('#df-5b25704b-f290-4fcd-a784-a9aea89b36e6');\n",
              "        const dataTable =\n",
              "          await google.colab.kernel.invokeFunction('convertToInteractive',\n",
              "                                                    [key], {});\n",
              "        if (!dataTable) return;\n",
              "\n",
              "        const docLinkHtml = 'Like what you see? Visit the ' +\n",
              "          '<a target=\"_blank\" href=https://colab.research.google.com/notebooks/data_table.ipynb>data table notebook</a>'\n",
              "          + ' to learn more about interactive tables.';\n",
              "        element.innerHTML = '';\n",
              "        dataTable['output_type'] = 'display_data';\n",
              "        await google.colab.output.renderOutput(dataTable, element);\n",
              "        const docLink = document.createElement('div');\n",
              "        docLink.innerHTML = docLinkHtml;\n",
              "        element.appendChild(docLink);\n",
              "      }\n",
              "    </script>\n",
              "  </div>\n",
              "\n",
              "\n",
              "<div id=\"df-5c08beaa-156b-41a8-8da4-0af00ad4cb4b\">\n",
              "  <button class=\"colab-df-quickchart\" onclick=\"quickchart('df-5c08beaa-156b-41a8-8da4-0af00ad4cb4b')\"\n",
              "            title=\"Suggest charts\"\n",
              "            style=\"display:none;\">\n",
              "\n",
              "<svg xmlns=\"http://www.w3.org/2000/svg\" height=\"24px\"viewBox=\"0 0 24 24\"\n",
              "     width=\"24px\">\n",
              "    <g>\n",
              "        <path d=\"M19 3H5c-1.1 0-2 .9-2 2v14c0 1.1.9 2 2 2h14c1.1 0 2-.9 2-2V5c0-1.1-.9-2-2-2zM9 17H7v-7h2v7zm4 0h-2V7h2v10zm4 0h-2v-4h2v4z\"/>\n",
              "    </g>\n",
              "</svg>\n",
              "  </button>\n",
              "\n",
              "<style>\n",
              "  .colab-df-quickchart {\n",
              "      --bg-color: #E8F0FE;\n",
              "      --fill-color: #1967D2;\n",
              "      --hover-bg-color: #E2EBFA;\n",
              "      --hover-fill-color: #174EA6;\n",
              "      --disabled-fill-color: #AAA;\n",
              "      --disabled-bg-color: #DDD;\n",
              "  }\n",
              "\n",
              "  [theme=dark] .colab-df-quickchart {\n",
              "      --bg-color: #3B4455;\n",
              "      --fill-color: #D2E3FC;\n",
              "      --hover-bg-color: #434B5C;\n",
              "      --hover-fill-color: #FFFFFF;\n",
              "      --disabled-bg-color: #3B4455;\n",
              "      --disabled-fill-color: #666;\n",
              "  }\n",
              "\n",
              "  .colab-df-quickchart {\n",
              "    background-color: var(--bg-color);\n",
              "    border: none;\n",
              "    border-radius: 50%;\n",
              "    cursor: pointer;\n",
              "    display: none;\n",
              "    fill: var(--fill-color);\n",
              "    height: 32px;\n",
              "    padding: 0;\n",
              "    width: 32px;\n",
              "  }\n",
              "\n",
              "  .colab-df-quickchart:hover {\n",
              "    background-color: var(--hover-bg-color);\n",
              "    box-shadow: 0 1px 2px rgba(60, 64, 67, 0.3), 0 1px 3px 1px rgba(60, 64, 67, 0.15);\n",
              "    fill: var(--button-hover-fill-color);\n",
              "  }\n",
              "\n",
              "  .colab-df-quickchart-complete:disabled,\n",
              "  .colab-df-quickchart-complete:disabled:hover {\n",
              "    background-color: var(--disabled-bg-color);\n",
              "    fill: var(--disabled-fill-color);\n",
              "    box-shadow: none;\n",
              "  }\n",
              "\n",
              "  .colab-df-spinner {\n",
              "    border: 2px solid var(--fill-color);\n",
              "    border-color: transparent;\n",
              "    border-bottom-color: var(--fill-color);\n",
              "    animation:\n",
              "      spin 1s steps(1) infinite;\n",
              "  }\n",
              "\n",
              "  @keyframes spin {\n",
              "    0% {\n",
              "      border-color: transparent;\n",
              "      border-bottom-color: var(--fill-color);\n",
              "      border-left-color: var(--fill-color);\n",
              "    }\n",
              "    20% {\n",
              "      border-color: transparent;\n",
              "      border-left-color: var(--fill-color);\n",
              "      border-top-color: var(--fill-color);\n",
              "    }\n",
              "    30% {\n",
              "      border-color: transparent;\n",
              "      border-left-color: var(--fill-color);\n",
              "      border-top-color: var(--fill-color);\n",
              "      border-right-color: var(--fill-color);\n",
              "    }\n",
              "    40% {\n",
              "      border-color: transparent;\n",
              "      border-right-color: var(--fill-color);\n",
              "      border-top-color: var(--fill-color);\n",
              "    }\n",
              "    60% {\n",
              "      border-color: transparent;\n",
              "      border-right-color: var(--fill-color);\n",
              "    }\n",
              "    80% {\n",
              "      border-color: transparent;\n",
              "      border-right-color: var(--fill-color);\n",
              "      border-bottom-color: var(--fill-color);\n",
              "    }\n",
              "    90% {\n",
              "      border-color: transparent;\n",
              "      border-bottom-color: var(--fill-color);\n",
              "    }\n",
              "  }\n",
              "</style>\n",
              "\n",
              "  <script>\n",
              "    async function quickchart(key) {\n",
              "      const quickchartButtonEl =\n",
              "        document.querySelector('#' + key + ' button');\n",
              "      quickchartButtonEl.disabled = true;  // To prevent multiple clicks.\n",
              "      quickchartButtonEl.classList.add('colab-df-spinner');\n",
              "      try {\n",
              "        const charts = await google.colab.kernel.invokeFunction(\n",
              "            'suggestCharts', [key], {});\n",
              "      } catch (error) {\n",
              "        console.error('Error during call to suggestCharts:', error);\n",
              "      }\n",
              "      quickchartButtonEl.classList.remove('colab-df-spinner');\n",
              "      quickchartButtonEl.classList.add('colab-df-quickchart-complete');\n",
              "    }\n",
              "    (() => {\n",
              "      let quickchartButtonEl =\n",
              "        document.querySelector('#df-5c08beaa-156b-41a8-8da4-0af00ad4cb4b button');\n",
              "      quickchartButtonEl.style.display =\n",
              "        google.colab.kernel.accessAllowed ? 'block' : 'none';\n",
              "    })();\n",
              "  </script>\n",
              "</div>\n",
              "\n",
              "    </div>\n",
              "  </div>\n"
            ],
            "application/vnd.google.colaboratory.intrinsic+json": {
              "type": "dataframe",
              "variable_name": "df",
              "summary": "{\n  \"name\": \"df\",\n  \"rows\": 150,\n  \"fields\": [\n    {\n      \"column\": 0,\n      \"properties\": {\n        \"dtype\": \"number\",\n        \"std\": 0.828066127977863,\n        \"min\": 4.3,\n        \"max\": 7.9,\n        \"num_unique_values\": 35,\n        \"samples\": [\n          6.2,\n          4.5,\n          5.6\n        ],\n        \"semantic_type\": \"\",\n        \"description\": \"\"\n      }\n    },\n    {\n      \"column\": 1,\n      \"properties\": {\n        \"dtype\": \"number\",\n        \"std\": 0.4335943113621737,\n        \"min\": 2.0,\n        \"max\": 4.4,\n        \"num_unique_values\": 23,\n        \"samples\": [\n          2.3,\n          4.0,\n          3.5\n        ],\n        \"semantic_type\": \"\",\n        \"description\": \"\"\n      }\n    },\n    {\n      \"column\": 2,\n      \"properties\": {\n        \"dtype\": \"number\",\n        \"std\": 1.7644204199522626,\n        \"min\": 1.0,\n        \"max\": 6.9,\n        \"num_unique_values\": 43,\n        \"samples\": [\n          6.7,\n          3.8,\n          3.7\n        ],\n        \"semantic_type\": \"\",\n        \"description\": \"\"\n      }\n    },\n    {\n      \"column\": 3,\n      \"properties\": {\n        \"dtype\": \"number\",\n        \"std\": 0.7631607417008411,\n        \"min\": 0.1,\n        \"max\": 2.5,\n        \"num_unique_values\": 22,\n        \"samples\": [\n          0.2,\n          1.2,\n          1.3\n        ],\n        \"semantic_type\": \"\",\n        \"description\": \"\"\n      }\n    },\n    {\n      \"column\": 4,\n      \"properties\": {\n        \"dtype\": \"category\",\n        \"num_unique_values\": 3,\n        \"samples\": [\n          \"Iris-setosa\",\n          \"Iris-versicolor\",\n          \"Iris-virginica\"\n        ],\n        \"semantic_type\": \"\",\n        \"description\": \"\"\n      }\n    }\n  ]\n}"
            }
          },
          "metadata": {},
          "execution_count": 616
        }
      ]
    },
    {
      "cell_type": "code",
      "source": [
        "headers = [\"sepal_length\", \"sepal_width\", \"petal_length\", \"petal_width\", \"species\"]\n",
        "### Assign the headers to `df`\n",
        "df.columns = headers\n",
        "\n",
        "df.sample(2)"
      ],
      "metadata": {
        "colab": {
          "base_uri": "https://localhost:8080/",
          "height": 112
        },
        "id": "nbZ_S1TwaCyF",
        "outputId": "93f35667-402a-4b67-fb7e-748d1eff4348"
      },
      "execution_count": 617,
      "outputs": [
        {
          "output_type": "execute_result",
          "data": {
            "text/plain": [
              "    sepal_length  sepal_width  petal_length  petal_width          species\n",
              "82           5.8          2.7           3.9          1.2  Iris-versicolor\n",
              "58           6.6          2.9           4.6          1.3  Iris-versicolor"
            ],
            "text/html": [
              "\n",
              "  <div id=\"df-72c352e2-5cc5-4cee-934e-ce6ecc4f5c86\" class=\"colab-df-container\">\n",
              "    <div>\n",
              "<style scoped>\n",
              "    .dataframe tbody tr th:only-of-type {\n",
              "        vertical-align: middle;\n",
              "    }\n",
              "\n",
              "    .dataframe tbody tr th {\n",
              "        vertical-align: top;\n",
              "    }\n",
              "\n",
              "    .dataframe thead th {\n",
              "        text-align: right;\n",
              "    }\n",
              "</style>\n",
              "<table border=\"1\" class=\"dataframe\">\n",
              "  <thead>\n",
              "    <tr style=\"text-align: right;\">\n",
              "      <th></th>\n",
              "      <th>sepal_length</th>\n",
              "      <th>sepal_width</th>\n",
              "      <th>petal_length</th>\n",
              "      <th>petal_width</th>\n",
              "      <th>species</th>\n",
              "    </tr>\n",
              "  </thead>\n",
              "  <tbody>\n",
              "    <tr>\n",
              "      <th>82</th>\n",
              "      <td>5.8</td>\n",
              "      <td>2.7</td>\n",
              "      <td>3.9</td>\n",
              "      <td>1.2</td>\n",
              "      <td>Iris-versicolor</td>\n",
              "    </tr>\n",
              "    <tr>\n",
              "      <th>58</th>\n",
              "      <td>6.6</td>\n",
              "      <td>2.9</td>\n",
              "      <td>4.6</td>\n",
              "      <td>1.3</td>\n",
              "      <td>Iris-versicolor</td>\n",
              "    </tr>\n",
              "  </tbody>\n",
              "</table>\n",
              "</div>\n",
              "    <div class=\"colab-df-buttons\">\n",
              "\n",
              "  <div class=\"colab-df-container\">\n",
              "    <button class=\"colab-df-convert\" onclick=\"convertToInteractive('df-72c352e2-5cc5-4cee-934e-ce6ecc4f5c86')\"\n",
              "            title=\"Convert this dataframe to an interactive table.\"\n",
              "            style=\"display:none;\">\n",
              "\n",
              "  <svg xmlns=\"http://www.w3.org/2000/svg\" height=\"24px\" viewBox=\"0 -960 960 960\">\n",
              "    <path d=\"M120-120v-720h720v720H120Zm60-500h600v-160H180v160Zm220 220h160v-160H400v160Zm0 220h160v-160H400v160ZM180-400h160v-160H180v160Zm440 0h160v-160H620v160ZM180-180h160v-160H180v160Zm440 0h160v-160H620v160Z\"/>\n",
              "  </svg>\n",
              "    </button>\n",
              "\n",
              "  <style>\n",
              "    .colab-df-container {\n",
              "      display:flex;\n",
              "      gap: 12px;\n",
              "    }\n",
              "\n",
              "    .colab-df-convert {\n",
              "      background-color: #E8F0FE;\n",
              "      border: none;\n",
              "      border-radius: 50%;\n",
              "      cursor: pointer;\n",
              "      display: none;\n",
              "      fill: #1967D2;\n",
              "      height: 32px;\n",
              "      padding: 0 0 0 0;\n",
              "      width: 32px;\n",
              "    }\n",
              "\n",
              "    .colab-df-convert:hover {\n",
              "      background-color: #E2EBFA;\n",
              "      box-shadow: 0px 1px 2px rgba(60, 64, 67, 0.3), 0px 1px 3px 1px rgba(60, 64, 67, 0.15);\n",
              "      fill: #174EA6;\n",
              "    }\n",
              "\n",
              "    .colab-df-buttons div {\n",
              "      margin-bottom: 4px;\n",
              "    }\n",
              "\n",
              "    [theme=dark] .colab-df-convert {\n",
              "      background-color: #3B4455;\n",
              "      fill: #D2E3FC;\n",
              "    }\n",
              "\n",
              "    [theme=dark] .colab-df-convert:hover {\n",
              "      background-color: #434B5C;\n",
              "      box-shadow: 0px 1px 3px 1px rgba(0, 0, 0, 0.15);\n",
              "      filter: drop-shadow(0px 1px 2px rgba(0, 0, 0, 0.3));\n",
              "      fill: #FFFFFF;\n",
              "    }\n",
              "  </style>\n",
              "\n",
              "    <script>\n",
              "      const buttonEl =\n",
              "        document.querySelector('#df-72c352e2-5cc5-4cee-934e-ce6ecc4f5c86 button.colab-df-convert');\n",
              "      buttonEl.style.display =\n",
              "        google.colab.kernel.accessAllowed ? 'block' : 'none';\n",
              "\n",
              "      async function convertToInteractive(key) {\n",
              "        const element = document.querySelector('#df-72c352e2-5cc5-4cee-934e-ce6ecc4f5c86');\n",
              "        const dataTable =\n",
              "          await google.colab.kernel.invokeFunction('convertToInteractive',\n",
              "                                                    [key], {});\n",
              "        if (!dataTable) return;\n",
              "\n",
              "        const docLinkHtml = 'Like what you see? Visit the ' +\n",
              "          '<a target=\"_blank\" href=https://colab.research.google.com/notebooks/data_table.ipynb>data table notebook</a>'\n",
              "          + ' to learn more about interactive tables.';\n",
              "        element.innerHTML = '';\n",
              "        dataTable['output_type'] = 'display_data';\n",
              "        await google.colab.output.renderOutput(dataTable, element);\n",
              "        const docLink = document.createElement('div');\n",
              "        docLink.innerHTML = docLinkHtml;\n",
              "        element.appendChild(docLink);\n",
              "      }\n",
              "    </script>\n",
              "  </div>\n",
              "\n",
              "\n",
              "<div id=\"df-723c8b3b-b670-4ea8-8c3f-81af9c05e920\">\n",
              "  <button class=\"colab-df-quickchart\" onclick=\"quickchart('df-723c8b3b-b670-4ea8-8c3f-81af9c05e920')\"\n",
              "            title=\"Suggest charts\"\n",
              "            style=\"display:none;\">\n",
              "\n",
              "<svg xmlns=\"http://www.w3.org/2000/svg\" height=\"24px\"viewBox=\"0 0 24 24\"\n",
              "     width=\"24px\">\n",
              "    <g>\n",
              "        <path d=\"M19 3H5c-1.1 0-2 .9-2 2v14c0 1.1.9 2 2 2h14c1.1 0 2-.9 2-2V5c0-1.1-.9-2-2-2zM9 17H7v-7h2v7zm4 0h-2V7h2v10zm4 0h-2v-4h2v4z\"/>\n",
              "    </g>\n",
              "</svg>\n",
              "  </button>\n",
              "\n",
              "<style>\n",
              "  .colab-df-quickchart {\n",
              "      --bg-color: #E8F0FE;\n",
              "      --fill-color: #1967D2;\n",
              "      --hover-bg-color: #E2EBFA;\n",
              "      --hover-fill-color: #174EA6;\n",
              "      --disabled-fill-color: #AAA;\n",
              "      --disabled-bg-color: #DDD;\n",
              "  }\n",
              "\n",
              "  [theme=dark] .colab-df-quickchart {\n",
              "      --bg-color: #3B4455;\n",
              "      --fill-color: #D2E3FC;\n",
              "      --hover-bg-color: #434B5C;\n",
              "      --hover-fill-color: #FFFFFF;\n",
              "      --disabled-bg-color: #3B4455;\n",
              "      --disabled-fill-color: #666;\n",
              "  }\n",
              "\n",
              "  .colab-df-quickchart {\n",
              "    background-color: var(--bg-color);\n",
              "    border: none;\n",
              "    border-radius: 50%;\n",
              "    cursor: pointer;\n",
              "    display: none;\n",
              "    fill: var(--fill-color);\n",
              "    height: 32px;\n",
              "    padding: 0;\n",
              "    width: 32px;\n",
              "  }\n",
              "\n",
              "  .colab-df-quickchart:hover {\n",
              "    background-color: var(--hover-bg-color);\n",
              "    box-shadow: 0 1px 2px rgba(60, 64, 67, 0.3), 0 1px 3px 1px rgba(60, 64, 67, 0.15);\n",
              "    fill: var(--button-hover-fill-color);\n",
              "  }\n",
              "\n",
              "  .colab-df-quickchart-complete:disabled,\n",
              "  .colab-df-quickchart-complete:disabled:hover {\n",
              "    background-color: var(--disabled-bg-color);\n",
              "    fill: var(--disabled-fill-color);\n",
              "    box-shadow: none;\n",
              "  }\n",
              "\n",
              "  .colab-df-spinner {\n",
              "    border: 2px solid var(--fill-color);\n",
              "    border-color: transparent;\n",
              "    border-bottom-color: var(--fill-color);\n",
              "    animation:\n",
              "      spin 1s steps(1) infinite;\n",
              "  }\n",
              "\n",
              "  @keyframes spin {\n",
              "    0% {\n",
              "      border-color: transparent;\n",
              "      border-bottom-color: var(--fill-color);\n",
              "      border-left-color: var(--fill-color);\n",
              "    }\n",
              "    20% {\n",
              "      border-color: transparent;\n",
              "      border-left-color: var(--fill-color);\n",
              "      border-top-color: var(--fill-color);\n",
              "    }\n",
              "    30% {\n",
              "      border-color: transparent;\n",
              "      border-left-color: var(--fill-color);\n",
              "      border-top-color: var(--fill-color);\n",
              "      border-right-color: var(--fill-color);\n",
              "    }\n",
              "    40% {\n",
              "      border-color: transparent;\n",
              "      border-right-color: var(--fill-color);\n",
              "      border-top-color: var(--fill-color);\n",
              "    }\n",
              "    60% {\n",
              "      border-color: transparent;\n",
              "      border-right-color: var(--fill-color);\n",
              "    }\n",
              "    80% {\n",
              "      border-color: transparent;\n",
              "      border-right-color: var(--fill-color);\n",
              "      border-bottom-color: var(--fill-color);\n",
              "    }\n",
              "    90% {\n",
              "      border-color: transparent;\n",
              "      border-bottom-color: var(--fill-color);\n",
              "    }\n",
              "  }\n",
              "</style>\n",
              "\n",
              "  <script>\n",
              "    async function quickchart(key) {\n",
              "      const quickchartButtonEl =\n",
              "        document.querySelector('#' + key + ' button');\n",
              "      quickchartButtonEl.disabled = true;  // To prevent multiple clicks.\n",
              "      quickchartButtonEl.classList.add('colab-df-spinner');\n",
              "      try {\n",
              "        const charts = await google.colab.kernel.invokeFunction(\n",
              "            'suggestCharts', [key], {});\n",
              "      } catch (error) {\n",
              "        console.error('Error during call to suggestCharts:', error);\n",
              "      }\n",
              "      quickchartButtonEl.classList.remove('colab-df-spinner');\n",
              "      quickchartButtonEl.classList.add('colab-df-quickchart-complete');\n",
              "    }\n",
              "    (() => {\n",
              "      let quickchartButtonEl =\n",
              "        document.querySelector('#df-723c8b3b-b670-4ea8-8c3f-81af9c05e920 button');\n",
              "      quickchartButtonEl.style.display =\n",
              "        google.colab.kernel.accessAllowed ? 'block' : 'none';\n",
              "    })();\n",
              "  </script>\n",
              "</div>\n",
              "\n",
              "    </div>\n",
              "  </div>\n"
            ],
            "application/vnd.google.colaboratory.intrinsic+json": {
              "type": "dataframe",
              "summary": "{\n  \"name\": \"df\",\n  \"rows\": 2,\n  \"fields\": [\n    {\n      \"column\": \"sepal_length\",\n      \"properties\": {\n        \"dtype\": \"number\",\n        \"std\": 0.5656854249492379,\n        \"min\": 5.8,\n        \"max\": 6.6,\n        \"num_unique_values\": 2,\n        \"samples\": [\n          6.6,\n          5.8\n        ],\n        \"semantic_type\": \"\",\n        \"description\": \"\"\n      }\n    },\n    {\n      \"column\": \"sepal_width\",\n      \"properties\": {\n        \"dtype\": \"number\",\n        \"std\": 0.1414213562373093,\n        \"min\": 2.7,\n        \"max\": 2.9,\n        \"num_unique_values\": 2,\n        \"samples\": [\n          2.9,\n          2.7\n        ],\n        \"semantic_type\": \"\",\n        \"description\": \"\"\n      }\n    },\n    {\n      \"column\": \"petal_length\",\n      \"properties\": {\n        \"dtype\": \"number\",\n        \"std\": 0.49497474683058307,\n        \"min\": 3.9,\n        \"max\": 4.6,\n        \"num_unique_values\": 2,\n        \"samples\": [\n          4.6,\n          3.9\n        ],\n        \"semantic_type\": \"\",\n        \"description\": \"\"\n      }\n    },\n    {\n      \"column\": \"petal_width\",\n      \"properties\": {\n        \"dtype\": \"number\",\n        \"std\": 0.07071067811865482,\n        \"min\": 1.2,\n        \"max\": 1.3,\n        \"num_unique_values\": 2,\n        \"samples\": [\n          1.3,\n          1.2\n        ],\n        \"semantic_type\": \"\",\n        \"description\": \"\"\n      }\n    },\n    {\n      \"column\": \"species\",\n      \"properties\": {\n        \"dtype\": \"string\",\n        \"num_unique_values\": 1,\n        \"samples\": [\n          \"Iris-versicolor\"\n        ],\n        \"semantic_type\": \"\",\n        \"description\": \"\"\n      }\n    }\n  ]\n}"
            }
          },
          "metadata": {},
          "execution_count": 617
        }
      ]
    },
    {
      "cell_type": "code",
      "source": [
        "### Import SKlearn libraries\n",
        "from sklearn.preprocessing import LabelEncoder\n",
        "from sklearn.model_selection import train_test_split"
      ],
      "metadata": {
        "id": "Ra381TY4arfR"
      },
      "execution_count": 618,
      "outputs": []
    },
    {
      "cell_type": "code",
      "source": [
        "### Let us prepare the data - separating the features from the target\n",
        "X, y = df.values[:,:-1], df.values[:,-1]"
      ],
      "metadata": {
        "id": "ca5iXT3ObMYr"
      },
      "execution_count": 619,
      "outputs": []
    },
    {
      "cell_type": "code",
      "source": [
        "X[:2]"
      ],
      "metadata": {
        "colab": {
          "base_uri": "https://localhost:8080/"
        },
        "id": "Xq4Kd7XqcHfn",
        "outputId": "f576c02a-0048-4ba7-be83-bb3e11a6f830"
      },
      "execution_count": 620,
      "outputs": [
        {
          "output_type": "execute_result",
          "data": {
            "text/plain": [
              "array([[5.1, 3.5, 1.4, 0.2],\n",
              "       [4.9, 3.0, 1.4, 0.2]], dtype=object)"
            ]
          },
          "metadata": {},
          "execution_count": 620
        }
      ]
    },
    {
      "cell_type": "code",
      "source": [
        "y[:2]"
      ],
      "metadata": {
        "colab": {
          "base_uri": "https://localhost:8080/"
        },
        "id": "F4df6suacJhe",
        "outputId": "9ca54f1e-7804-4fe3-cdb0-8632876ec90d"
      },
      "execution_count": 621,
      "outputs": [
        {
          "output_type": "execute_result",
          "data": {
            "text/plain": [
              "array(['Iris-setosa', 'Iris-setosa'], dtype=object)"
            ]
          },
          "metadata": {},
          "execution_count": 621
        }
      ]
    },
    {
      "cell_type": "code",
      "source": [
        "X = X.astype('float32')"
      ],
      "metadata": {
        "id": "y6NP2HYpcPoz"
      },
      "execution_count": 622,
      "outputs": []
    },
    {
      "cell_type": "code",
      "source": [
        "y = LabelEncoder().fit_transform(y)"
      ],
      "metadata": {
        "id": "E0W7mKZPcZLi"
      },
      "execution_count": 623,
      "outputs": []
    },
    {
      "cell_type": "code",
      "source": [
        "y"
      ],
      "metadata": {
        "colab": {
          "base_uri": "https://localhost:8080/"
        },
        "id": "S9ddx6EPcebn",
        "outputId": "3da6e044-ffcb-43a8-9f4b-50d786236dd4"
      },
      "execution_count": 624,
      "outputs": [
        {
          "output_type": "execute_result",
          "data": {
            "text/plain": [
              "array([0, 0, 0, 0, 0, 0, 0, 0, 0, 0, 0, 0, 0, 0, 0, 0, 0, 0, 0, 0, 0, 0,\n",
              "       0, 0, 0, 0, 0, 0, 0, 0, 0, 0, 0, 0, 0, 0, 0, 0, 0, 0, 0, 0, 0, 0,\n",
              "       0, 0, 0, 0, 0, 0, 1, 1, 1, 1, 1, 1, 1, 1, 1, 1, 1, 1, 1, 1, 1, 1,\n",
              "       1, 1, 1, 1, 1, 1, 1, 1, 1, 1, 1, 1, 1, 1, 1, 1, 1, 1, 1, 1, 1, 1,\n",
              "       1, 1, 1, 1, 1, 1, 1, 1, 1, 1, 1, 1, 2, 2, 2, 2, 2, 2, 2, 2, 2, 2,\n",
              "       2, 2, 2, 2, 2, 2, 2, 2, 2, 2, 2, 2, 2, 2, 2, 2, 2, 2, 2, 2, 2, 2,\n",
              "       2, 2, 2, 2, 2, 2, 2, 2, 2, 2, 2, 2, 2, 2, 2, 2, 2, 2])"
            ]
          },
          "metadata": {},
          "execution_count": 624
        }
      ]
    },
    {
      "cell_type": "markdown",
      "source": [
        "### Step 3: Split the `IRIS` dataset into `train` and `test`"
      ],
      "metadata": {
        "id": "UVirqG0kchs7"
      }
    },
    {
      "cell_type": "code",
      "source": [
        "X_train, X_test, y_train, y_test = train_test_split(X,y, test_size=.30, random_state=42)"
      ],
      "metadata": {
        "id": "2vai3dN8cfUL"
      },
      "execution_count": 625,
      "outputs": []
    },
    {
      "cell_type": "code",
      "source": [
        "X_train.shape, X_test.shape"
      ],
      "metadata": {
        "colab": {
          "base_uri": "https://localhost:8080/"
        },
        "id": "Fs_HMyoZc08z",
        "outputId": "98ff0b7b-0787-4d2a-d23f-97559db64d04"
      },
      "execution_count": 626,
      "outputs": [
        {
          "output_type": "execute_result",
          "data": {
            "text/plain": [
              "((105, 4), (45, 4))"
            ]
          },
          "metadata": {},
          "execution_count": 626
        }
      ]
    },
    {
      "cell_type": "markdown",
      "source": [
        "### Step 4: Build the neural network model"
      ],
      "metadata": {
        "id": "uDRDaNZXdBtO"
      }
    },
    {
      "cell_type": "code",
      "source": [
        "### Dertermine the number of features\n",
        "n_features = X_train.shape[1]\n",
        "print('Number of features:',n_features)\n",
        "\n",
        "### Determine the number of classes\n",
        "n_classes = len(np.unique(y))\n",
        "print('Number of classes:', n_classes)"
      ],
      "metadata": {
        "colab": {
          "base_uri": "https://localhost:8080/"
        },
        "id": "T9mPH3dpc6Kj",
        "outputId": "1659c87f-f87a-485e-82a5-ee07f47e94a5"
      },
      "execution_count": 627,
      "outputs": [
        {
          "output_type": "stream",
          "name": "stdout",
          "text": [
            "Number of features: 4\n",
            "Number of classes: 3\n"
          ]
        }
      ]
    },
    {
      "cell_type": "markdown",
      "source": [
        "#### Step 4A: Define the model\n",
        "\n",
        "**`CNN:`Convoluted Neural Network**\n",
        "\n",
        "*   initialize the weights and biases for each layer\n",
        "*   implement the forward pass\n"
      ],
      "metadata": {
        "id": "dNh-Sczoek_q"
      }
    },
    {
      "cell_type": "code",
      "source": [
        "class CNNModel(tensorflow.Module):\n",
        "  def __init__(self, num_h_l, num_f, num_o_c, num_n_list=[]):#initializes weights and biases for each layer\n",
        "\n",
        "    ### initialize data for this object\n",
        "    self.num_h_l = num_h_l # number of hidden layers\n",
        "    self.num_f = num_f # number of features: input variables\n",
        "    self.num_o_c = num_o_c # number of output classes: softmax output\n",
        "    self.num_n_list = num_n_list # number of list of neurons at each hidden layers\n",
        "\n",
        "    ### hidden layers should be in the range (1, 50) else default value is 1\n",
        "    self.num_h_l = self.num_h_l if self.num_h_l > 0 and self.num_h_l < 51 else 1\n",
        "    ### if the self.num_n_list is empty or having less values, populate it with a cap on num of neurons at (10, 20)\n",
        "    self.num_n_list = self.num_n_list if len(self.num_n_list) == (self.num_h_l + 1) else list(np.random.randint(low = 10,high=20,size=self.num_h_l + 1))\n",
        "    ### insert num of features at the beggining and num of output classes at the end of that list\n",
        "    self.num_n_list.insert(0, self.num_f)\n",
        "    self.num_n_list.append(self.num_o_c)\n",
        "    print(self.num_n_list)\n",
        "\n",
        "    for i in range(1, self.num_h_l + 3):\n",
        "      w_var_name = 'self.w' + str(i)\n",
        "      b_var_name = 'self.b' + str(i)\n",
        "      print(w_var_name, b_var_name)\n",
        "      w_var_value = \"tensorflow.Variable(tensorflow.random.normal([{n1}, {n2}], stddev=0.1), name='{w_var_name}')\".format(n1=self.num_n_list[i-1], n2=self.num_n_list[i], w_var_name=w_var_name[5:])\n",
        "      b_var_value = \"tensorflow.Variable(tensorflow.zeros([{n}]), name='{b_var_name}')\".format(n=self.num_n_list[i], b_var_name=b_var_name[5:])\n",
        "      exec(f\"{w_var_name} = {w_var_value}\")\n",
        "      exec(f\"{b_var_name} = {b_var_value}\")\n",
        "      print(\"executed these: \", w_var_name, w_var_value)\n",
        "      print(\"executed these: \", b_var_name, b_var_value)\n",
        "\n",
        "  def __call__(self, x):# to implement the forward pass\n",
        "\n",
        "    import tensorflow\n",
        "    ### represents weight and bias for the first layer\n",
        "    ### ReLU (REctified Linear Unit) - an activation function\n",
        "    # performing a matrix multiplication between input features and the weight matrix. Also adding the bias matrix after in the next using `tf.add`\n",
        "    self.l_dict = {}\n",
        "    self.l_dict[\"layer1\"] = tensorflow.nn.relu(tensorflow.add(tensorflow.matmul(x,self.w1), self.b1))\n",
        "    #layer1 = tensorflow.nn.relu(tensorflow.add(tensorflow.matmul(x,self.w1), self.b1))\n",
        "    for i in range(2, self.num_h_l + 2):\n",
        "      layer_name = 'layer' + str(i)\n",
        "      prev_layer_name = 'layer' + str(i-1)\n",
        "      curr_w_var_name = 'self.w' + str(i)\n",
        "      curr_b_var_name = 'self.b' + str(i)\n",
        "      self.l_dict[layer_name] = tensorflow.nn.relu(tensorflow.add(tensorflow.matmul(self.l_dict[prev_layer_name], eval(curr_w_var_name)), eval(curr_b_var_name)))\n",
        "\n",
        "    last_w_var_name = 'self.w' + str(self.num_h_l + 2)\n",
        "    last_b_var_name = 'self.b' + str(self.num_h_l + 2)\n",
        "    last_layer_name = 'layer' + str(self.num_h_l + 1)\n",
        "    output = tensorflow.add(tensorflow.matmul(self.l_dict[last_layer_name], eval(last_w_var_name)), eval(last_b_var_name))\n",
        "    return output"
      ],
      "metadata": {
        "id": "5bGK2hwZekIS"
      },
      "execution_count": 628,
      "outputs": []
    },
    {
      "cell_type": "markdown",
      "source": [
        "#### Step 4B: Instantiate the model\n",
        "\n",
        "\n",
        "\n"
      ],
      "metadata": {
        "id": "w64AL_UIlRj7"
      }
    },
    {
      "cell_type": "code",
      "source": [
        "model = CNNModel(11, n_features, n_classes)"
      ],
      "metadata": {
        "id": "CUxxy7SOhiyf",
        "colab": {
          "base_uri": "https://localhost:8080/"
        },
        "outputId": "67794325-f2ee-480d-c20f-ff00ee39de8f"
      },
      "execution_count": 629,
      "outputs": [
        {
          "output_type": "stream",
          "name": "stdout",
          "text": [
            "ListWrapper([4, 19, 12, 19, 18, 19, 12, 19, 19, 13, 17, 13, 15, 3])\n",
            "self.w1 self.b1\n",
            "executed these:  self.w1 tensorflow.Variable(tensorflow.random.normal([4, 19], stddev=0.1), name='w1')\n",
            "executed these:  self.b1 tensorflow.Variable(tensorflow.zeros([19]), name='b1')\n",
            "self.w2 self.b2\n",
            "executed these:  self.w2 tensorflow.Variable(tensorflow.random.normal([19, 12], stddev=0.1), name='w2')\n",
            "executed these:  self.b2 tensorflow.Variable(tensorflow.zeros([12]), name='b2')\n",
            "self.w3 self.b3\n",
            "executed these:  self.w3 tensorflow.Variable(tensorflow.random.normal([12, 19], stddev=0.1), name='w3')\n",
            "executed these:  self.b3 tensorflow.Variable(tensorflow.zeros([19]), name='b3')\n",
            "self.w4 self.b4\n",
            "executed these:  self.w4 tensorflow.Variable(tensorflow.random.normal([19, 18], stddev=0.1), name='w4')\n",
            "executed these:  self.b4 tensorflow.Variable(tensorflow.zeros([18]), name='b4')\n",
            "self.w5 self.b5\n",
            "executed these:  self.w5 tensorflow.Variable(tensorflow.random.normal([18, 19], stddev=0.1), name='w5')\n",
            "executed these:  self.b5 tensorflow.Variable(tensorflow.zeros([19]), name='b5')\n",
            "self.w6 self.b6\n",
            "executed these:  self.w6 tensorflow.Variable(tensorflow.random.normal([19, 12], stddev=0.1), name='w6')\n",
            "executed these:  self.b6 tensorflow.Variable(tensorflow.zeros([12]), name='b6')\n",
            "self.w7 self.b7\n",
            "executed these:  self.w7 tensorflow.Variable(tensorflow.random.normal([12, 19], stddev=0.1), name='w7')\n",
            "executed these:  self.b7 tensorflow.Variable(tensorflow.zeros([19]), name='b7')\n",
            "self.w8 self.b8\n",
            "executed these:  self.w8 tensorflow.Variable(tensorflow.random.normal([19, 19], stddev=0.1), name='w8')\n",
            "executed these:  self.b8 tensorflow.Variable(tensorflow.zeros([19]), name='b8')\n",
            "self.w9 self.b9\n",
            "executed these:  self.w9 tensorflow.Variable(tensorflow.random.normal([19, 13], stddev=0.1), name='w9')\n",
            "executed these:  self.b9 tensorflow.Variable(tensorflow.zeros([13]), name='b9')\n",
            "self.w10 self.b10\n",
            "executed these:  self.w10 tensorflow.Variable(tensorflow.random.normal([13, 17], stddev=0.1), name='w10')\n",
            "executed these:  self.b10 tensorflow.Variable(tensorflow.zeros([17]), name='b10')\n",
            "self.w11 self.b11\n",
            "executed these:  self.w11 tensorflow.Variable(tensorflow.random.normal([17, 13], stddev=0.1), name='w11')\n",
            "executed these:  self.b11 tensorflow.Variable(tensorflow.zeros([13]), name='b11')\n",
            "self.w12 self.b12\n",
            "executed these:  self.w12 tensorflow.Variable(tensorflow.random.normal([13, 15], stddev=0.1), name='w12')\n",
            "executed these:  self.b12 tensorflow.Variable(tensorflow.zeros([15]), name='b12')\n",
            "self.w13 self.b13\n",
            "executed these:  self.w13 tensorflow.Variable(tensorflow.random.normal([15, 3], stddev=0.1), name='w13')\n",
            "executed these:  self.b13 tensorflow.Variable(tensorflow.zeros([3]), name='b13')\n"
          ]
        }
      ]
    },
    {
      "cell_type": "code",
      "source": [
        "loss_fn = tensorflow.losses.SparseCategoricalCrossentropy(from_logits=True) # Crossentropy loss for multi-class classification\n",
        "optimizer = tensorflow.optimizers.Adam() #Adam optimizer for training"
      ],
      "metadata": {
        "id": "79K2-4d1ldIi"
      },
      "execution_count": 630,
      "outputs": []
    },
    {
      "cell_type": "markdown",
      "source": [
        "#### Step 4C: Training Steps"
      ],
      "metadata": {
        "id": "9_i_9akAl4ST"
      }
    },
    {
      "cell_type": "code",
      "source": [
        "### Training Function\n",
        "@tensorflow.function # compiles the function into a TensorFlow graph for efficiency\n",
        "def train_step(x,y): #Performs one step of training\n",
        "  with tensorflow.GradientTape() as tape: #records operations for automatic differentiation\n",
        "    logits = model(x)   # raw output of the model\n",
        "    loss = loss_fn(y, logits) #compute the loss\n",
        "  gradients = tape.gradient(loss, model.trainable_variables) #gradients of the loss w.r.t model parameters --> weights, biases\n",
        "  optimizer.apply_gradients(zip(gradients,model.trainable_variables)) #updates the model parameters --> weights, biases\n",
        "  return loss"
      ],
      "metadata": {
        "id": "69IpZqXXlzF5"
      },
      "execution_count": 631,
      "outputs": []
    },
    {
      "cell_type": "markdown",
      "source": [
        "#### Step 4D: Run the model loop"
      ],
      "metadata": {
        "id": "eBGW28H9mr9Q"
      }
    },
    {
      "cell_type": "code",
      "source": [
        "X_train.shape"
      ],
      "metadata": {
        "colab": {
          "base_uri": "https://localhost:8080/"
        },
        "id": "ZiePxJubmnov",
        "outputId": "83c43eea-f3de-4c35-db4c-80c8b5f9cf5b"
      },
      "execution_count": 632,
      "outputs": [
        {
          "output_type": "execute_result",
          "data": {
            "text/plain": [
              "(105, 4)"
            ]
          },
          "metadata": {},
          "execution_count": 632
        }
      ]
    },
    {
      "cell_type": "code",
      "source": [
        "n_epochs = 150 # no. of training epochs\n",
        "batch_size = 32 # size of each training batch\n",
        "\n",
        "for epoch in range(n_epochs): #looping over epochs\n",
        "  # Creates a TF dataset from the training data,shuffles and bacthes it\n",
        "  dataset = tensorflow.data.Dataset.from_tensor_slices((X_train, y_train)).shuffle(buffer_size=1000).batch(batch_size)\n",
        "  for batch_x, batch_y in dataset: #looping over batches\n",
        "    loss = train_step(batch_x, batch_y) #refer the function train_step above\n",
        "  if (epoch+1)%10 ==0:  #Print loss every 10 epochs\n",
        "    print(f'Epoch {epoch + 1}, Loss: {loss.numpy()}')"
      ],
      "metadata": {
        "colab": {
          "base_uri": "https://localhost:8080/"
        },
        "id": "qsHLljEIm1RQ",
        "outputId": "ea671aa5-e4f3-4128-ec7e-674f8677fad3"
      },
      "execution_count": 633,
      "outputs": [
        {
          "output_type": "stream",
          "name": "stdout",
          "text": [
            "Epoch 10, Loss: 1.0959783792495728\n",
            "Epoch 20, Loss: 1.1034513711929321\n",
            "Epoch 30, Loss: 1.0980970859527588\n",
            "Epoch 40, Loss: 1.0804303884506226\n",
            "Epoch 50, Loss: 1.1015653610229492\n",
            "Epoch 60, Loss: 0.8544092178344727\n",
            "Epoch 70, Loss: 0.8133599162101746\n",
            "Epoch 80, Loss: 0.9818600416183472\n",
            "Epoch 90, Loss: 0.4517137110233307\n",
            "Epoch 100, Loss: 0.16860903799533844\n",
            "Epoch 110, Loss: 0.35100454092025757\n",
            "Epoch 120, Loss: 0.19981372356414795\n",
            "Epoch 130, Loss: 0.1631355732679367\n",
            "Epoch 140, Loss: 0.12904958426952362\n",
            "Epoch 150, Loss: 0.10788355022668839\n"
          ]
        }
      ]
    },
    {
      "cell_type": "code",
      "source": [
        "def evaluate(X,y): #function to compute accuracy on the test set\n",
        "  logits = model(X) # raw outputs of the model\n",
        "  predictions = tensorflow.argmax(logits, axis=1) #convers logits into predicted classes\n",
        "  accuracy = np.mean(predictions.numpy()==y) #mean accuracy\n",
        "  return accuracy\n",
        "\n",
        "test_accuracy = evaluate(X_test, y_test)\n",
        "print(f'Test Accuracy percentage %: {test_accuracy*100:.3f}')"
      ],
      "metadata": {
        "colab": {
          "base_uri": "https://localhost:8080/"
        },
        "id": "CwKJXl7moss5",
        "outputId": "6e3095a0-77ef-4c50-fa92-568814377c85"
      },
      "execution_count": 634,
      "outputs": [
        {
          "output_type": "stream",
          "name": "stdout",
          "text": [
            "Test Accuracy percentage %: 95.556\n"
          ]
        }
      ]
    }
  ]
}